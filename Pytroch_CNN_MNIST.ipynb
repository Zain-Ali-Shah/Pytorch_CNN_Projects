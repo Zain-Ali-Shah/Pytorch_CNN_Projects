{
  "nbformat": 4,
  "nbformat_minor": 0,
  "metadata": {
    "colab": {
      "provenance": []
    },
    "kernelspec": {
      "name": "python3",
      "display_name": "Python 3"
    },
    "language_info": {
      "name": "python"
    }
  },
  "cells": [
    {
      "cell_type": "code",
      "execution_count": null,
      "metadata": {
        "id": "v-Wpuuvtv3qQ"
      },
      "outputs": [],
      "source": [
        "import torch\n",
        "import torch.nn as nn\n",
        "import torch.nn.functional as F\n",
        "from torch.utils.data import DataLoader\n",
        "from torchvision import datasets, transforms\n",
        "from torchvision.utils import make_grid\n",
        "\n",
        "import numpy as np\n",
        "import pandas as pd\n",
        "from sklearn.metrics import confusion_matrix\n",
        "import matplotlib.pyplot as plt"
      ]
    },
    {
      "cell_type": "code",
      "source": [
        "transform = transforms.ToTensor()"
      ],
      "metadata": {
        "id": "XR0rmxGuxIL9"
      },
      "execution_count": null,
      "outputs": []
    },
    {
      "cell_type": "code",
      "source": [
        "train_data = datasets.MNIST(root=\"/content/drive/MyDrive/Deep_learning-datasets\", train=True, download=False, transform=transform)"
      ],
      "metadata": {
        "id": "U23VKOK0xO_Z"
      },
      "execution_count": null,
      "outputs": []
    },
    {
      "cell_type": "code",
      "source": [
        "test_data = datasets.MNIST(root=\"/content/drive/MyDrive/Deep_learning-datasets\", train=False, download=False, transform=transform)"
      ],
      "metadata": {
        "id": "LWqmIRcmx4D9"
      },
      "execution_count": null,
      "outputs": []
    },
    {
      "cell_type": "code",
      "source": [
        "train_data"
      ],
      "metadata": {
        "colab": {
          "base_uri": "https://localhost:8080/"
        },
        "id": "o2yUvO59x-89",
        "outputId": "b8c47f39-3d04-4075-d315-77a848e39f18"
      },
      "execution_count": null,
      "outputs": [
        {
          "output_type": "execute_result",
          "data": {
            "text/plain": [
              "Dataset MNIST\n",
              "    Number of datapoints: 60000\n",
              "    Root location: /content/drive/MyDrive/Deep_learning-datasets\n",
              "    Split: Train\n",
              "    StandardTransform\n",
              "Transform: ToTensor()"
            ]
          },
          "metadata": {},
          "execution_count": 6
        }
      ]
    },
    {
      "cell_type": "code",
      "source": [
        "test_data"
      ],
      "metadata": {
        "colab": {
          "base_uri": "https://localhost:8080/"
        },
        "id": "nr_4OZZm5Scp",
        "outputId": "8850b829-2765-4caa-ae62-4d1f0903708b"
      },
      "execution_count": null,
      "outputs": [
        {
          "output_type": "execute_result",
          "data": {
            "text/plain": [
              "Dataset MNIST\n",
              "    Number of datapoints: 10000\n",
              "    Root location: /content/drive/MyDrive/Deep_learning-datasets\n",
              "    Split: Test\n",
              "    StandardTransform\n",
              "Transform: ToTensor()"
            ]
          },
          "metadata": {},
          "execution_count": 7
        }
      ]
    },
    {
      "cell_type": "code",
      "source": [
        "train_loader = DataLoader(train_data, batch_size=10, shuffle=True)\n",
        "test_loader = DataLoader(test_data, batch_size=10, shuffle=False)"
      ],
      "metadata": {
        "id": "GvqWq03A5a-F"
      },
      "execution_count": null,
      "outputs": []
    },
    {
      "cell_type": "code",
      "source": [
        "conv1 = nn.Conv2d(1,6,3,1)\n",
        "conv2 = nn.Conv2d(6,16,3,1)"
      ],
      "metadata": {
        "id": "R82wWNOMBFAY"
      },
      "execution_count": null,
      "outputs": []
    },
    {
      "cell_type": "code",
      "source": [
        "for i,(X_train,y_train) in enumerate(train_data):\n",
        "  break"
      ],
      "metadata": {
        "id": "ZOWdOEKwBRBD"
      },
      "execution_count": null,
      "outputs": []
    },
    {
      "cell_type": "code",
      "source": [
        "X_train.shape"
      ],
      "metadata": {
        "colab": {
          "base_uri": "https://localhost:8080/"
        },
        "id": "Zlzkp8owDRPI",
        "outputId": "952d436a-2c5a-4498-a004-d9aad0d5977e"
      },
      "execution_count": null,
      "outputs": [
        {
          "output_type": "execute_result",
          "data": {
            "text/plain": [
              "torch.Size([1, 28, 28])"
            ]
          },
          "metadata": {},
          "execution_count": 11
        }
      ]
    },
    {
      "cell_type": "code",
      "source": [
        "x = X_train.view(1,1,28,28)"
      ],
      "metadata": {
        "id": "6tSWeUcNDfkS"
      },
      "execution_count": null,
      "outputs": []
    },
    {
      "cell_type": "code",
      "source": [
        "x = F.relu(conv1(x))"
      ],
      "metadata": {
        "id": "2RpDw74vHPKP"
      },
      "execution_count": null,
      "outputs": []
    },
    {
      "cell_type": "code",
      "source": [
        "x.shape"
      ],
      "metadata": {
        "colab": {
          "base_uri": "https://localhost:8080/"
        },
        "id": "1TbmdD10HT4G",
        "outputId": "5f27e15f-eb14-4e3b-8b49-7882b24f04af"
      },
      "execution_count": null,
      "outputs": [
        {
          "output_type": "execute_result",
          "data": {
            "text/plain": [
              "torch.Size([1, 6, 26, 26])"
            ]
          },
          "metadata": {},
          "execution_count": 14
        }
      ]
    },
    {
      "cell_type": "code",
      "source": [
        "x = F.max_pool2d(x,2,2)"
      ],
      "metadata": {
        "id": "YdQeHvnPHV_0"
      },
      "execution_count": null,
      "outputs": []
    },
    {
      "cell_type": "code",
      "source": [
        "x.shape"
      ],
      "metadata": {
        "colab": {
          "base_uri": "https://localhost:8080/"
        },
        "id": "xvuQTbD0HhKc",
        "outputId": "f2ecb5cd-cfa9-4bc0-d1c7-5fa12db749a8"
      },
      "execution_count": null,
      "outputs": [
        {
          "output_type": "execute_result",
          "data": {
            "text/plain": [
              "torch.Size([1, 6, 13, 13])"
            ]
          },
          "metadata": {},
          "execution_count": 16
        }
      ]
    },
    {
      "cell_type": "code",
      "source": [
        "x = F.relu(conv2(x))"
      ],
      "metadata": {
        "id": "j7pqQKeuVrd0"
      },
      "execution_count": null,
      "outputs": []
    },
    {
      "cell_type": "code",
      "source": [
        "x.shape"
      ],
      "metadata": {
        "colab": {
          "base_uri": "https://localhost:8080/"
        },
        "id": "Q4Q7jz-tVzX8",
        "outputId": "ea099867-0567-48d8-e57e-31681bd7fe13"
      },
      "execution_count": null,
      "outputs": [
        {
          "output_type": "execute_result",
          "data": {
            "text/plain": [
              "torch.Size([1, 16, 11, 11])"
            ]
          },
          "metadata": {},
          "execution_count": 18
        }
      ]
    },
    {
      "cell_type": "code",
      "source": [
        "x = F.max_pool2d(x,2,2)"
      ],
      "metadata": {
        "id": "2AQbPV0qV24z"
      },
      "execution_count": null,
      "outputs": []
    },
    {
      "cell_type": "code",
      "source": [
        "x.shape"
      ],
      "metadata": {
        "colab": {
          "base_uri": "https://localhost:8080/"
        },
        "id": "CDcvrRs-V8D4",
        "outputId": "519ee447-4030-493d-9d04-9762ee1d7564"
      },
      "execution_count": null,
      "outputs": [
        {
          "output_type": "execute_result",
          "data": {
            "text/plain": [
              "torch.Size([1, 16, 5, 5])"
            ]
          },
          "metadata": {},
          "execution_count": 20
        }
      ]
    },
    {
      "cell_type": "code",
      "source": [
        "x.view(-1,16*5*5).shape"
      ],
      "metadata": {
        "colab": {
          "base_uri": "https://localhost:8080/"
        },
        "id": "tpbUbP8GV9XD",
        "outputId": "f0c3a53f-d2f3-4ee7-f75a-2000ade3482c"
      },
      "execution_count": null,
      "outputs": [
        {
          "output_type": "execute_result",
          "data": {
            "text/plain": [
              "torch.Size([1, 400])"
            ]
          },
          "metadata": {},
          "execution_count": 21
        }
      ]
    },
    {
      "cell_type": "code",
      "source": [
        "class ConvolutionalNetwork(nn.Module):\n",
        "  def __init__(self):\n",
        "    super().__init__()\n",
        "    self.conv1 = nn.Conv2d(1,6,3,1)\n",
        "    self.conv2 = nn.Conv2d(6,16,3,1)\n",
        "    self.fc1 = nn.Linear(5*5*16,120)\n",
        "    self.fc2 = nn.Linear(120,84)\n",
        "    self.fc3 = nn.Linear(84,10)\n",
        "  def forward(self,X):\n",
        "    X = F.relu(self.conv1(X))\n",
        "    X = F.max_pool2d(X,2,2)\n",
        "    X = F.relu(self.conv2(X))\n",
        "    X = F.max_pool2d(X,2,2)\n",
        "    X = X.view(-1,16*5*5)\n",
        "    X = F.relu(self.fc1(X))\n",
        "    X = F.relu(self.fc2(X))\n",
        "    X = self.fc3(X)\n",
        "    return F.log_softmax(X,dim=1)"
      ],
      "metadata": {
        "id": "dZp5BGqyYSmD"
      },
      "execution_count": null,
      "outputs": []
    },
    {
      "cell_type": "code",
      "source": [
        "torch.manual_seed(42)\n",
        "model = ConvolutionalNetwork()\n",
        "model"
      ],
      "metadata": {
        "colab": {
          "base_uri": "https://localhost:8080/"
        },
        "id": "22P-Dhx6ftin",
        "outputId": "cd64e9b7-fc4c-4105-ff87-9efd697a8d4b"
      },
      "execution_count": null,
      "outputs": [
        {
          "output_type": "execute_result",
          "data": {
            "text/plain": [
              "ConvolutionalNetwork(\n",
              "  (conv1): Conv2d(1, 6, kernel_size=(3, 3), stride=(1, 1))\n",
              "  (conv2): Conv2d(6, 16, kernel_size=(3, 3), stride=(1, 1))\n",
              "  (fc1): Linear(in_features=400, out_features=120, bias=True)\n",
              "  (fc2): Linear(in_features=120, out_features=84, bias=True)\n",
              "  (fc3): Linear(in_features=84, out_features=10, bias=True)\n",
              ")"
            ]
          },
          "metadata": {},
          "execution_count": 23
        }
      ]
    },
    {
      "cell_type": "code",
      "source": [
        "for param in model.parameters():\n",
        "  print(param.numel())"
      ],
      "metadata": {
        "colab": {
          "base_uri": "https://localhost:8080/"
        },
        "id": "k1o5BFmogTns",
        "outputId": "ddaf3b49-874f-4a4c-9e0f-76832ff5e5b2"
      },
      "execution_count": null,
      "outputs": [
        {
          "output_type": "stream",
          "name": "stdout",
          "text": [
            "54\n",
            "6\n",
            "864\n",
            "16\n",
            "48000\n",
            "120\n",
            "10080\n",
            "84\n",
            "840\n",
            "10\n"
          ]
        }
      ]
    },
    {
      "cell_type": "code",
      "source": [
        "criterion = nn.CrossEntropyLoss()\n",
        "optimizer = torch.optim.Adam(model.parameters(),lr=0.001)"
      ],
      "metadata": {
        "id": "5iHOsc57gb53"
      },
      "execution_count": null,
      "outputs": []
    },
    {
      "cell_type": "code",
      "source": [
        "import time\n",
        "start_time = time.time()\n",
        "epochs = 5\n",
        "train_losses = []\n",
        "test_losses = []\n",
        "train_correct = []\n",
        "test_correct = []\n",
        "for i in range(epochs):\n",
        "  trn_corr = 0\n",
        "  tst_corr = 0\n",
        "  for b,(X_train,y_train) in enumerate(train_loader):\n",
        "    b+=1\n",
        "    y_pred = model(X_train)\n",
        "    loss = criterion(y_pred,y_train)\n",
        "    predicted = torch.max(y_pred.data,1)[1]\n",
        "    batch_corr = (predicted == y_train).sum()\n",
        "    trn_corr += batch_corr\n",
        "    optimizer.zero_grad()\n",
        "    loss.backward()\n",
        "    optimizer.step()\n",
        "    if b%600==0:\n",
        "      print(f\"EPOCH {i+1} BATCH {b} LOSS {loss.item()}\")\n",
        "  train_losses.append(loss.item())\n",
        "  train_correct.append(trn_corr)\n",
        "  with torch.no_grad():\n",
        "    for b,(X_test,y_test) in enumerate(test_loader):\n",
        "      y_val = model(X_test)\n",
        "      predicted = torch.max(y_val.data,1)[1]\n",
        "      tst_corr += (predicted == y_test).sum()\n",
        "  loss = criterion(y_val,y_test)\n",
        "  test_losses.append(loss.item())\n",
        "  test_correct.append(tst_corr)\n",
        "current_time = time.time()\n",
        "total = current_time - start_time\n",
        "print(f'Training took {total/60} minutes')"
      ],
      "metadata": {
        "colab": {
          "base_uri": "https://localhost:8080/"
        },
        "id": "AuQPezVejvLw",
        "outputId": "94102d4d-02fb-43a4-fafc-53e9600a95cd"
      },
      "execution_count": null,
      "outputs": [
        {
          "output_type": "stream",
          "name": "stdout",
          "text": [
            "EPOCH 1 BATCH 600 LOSS 0.040556274354457855\n",
            "EPOCH 1 BATCH 1200 LOSS 0.08253474533557892\n",
            "EPOCH 1 BATCH 1800 LOSS 0.3647049069404602\n",
            "EPOCH 1 BATCH 2400 LOSS 0.018250251188874245\n",
            "EPOCH 1 BATCH 3000 LOSS 0.008067040704190731\n",
            "EPOCH 1 BATCH 3600 LOSS 0.001166942878626287\n",
            "EPOCH 1 BATCH 4200 LOSS 0.5255253911018372\n",
            "EPOCH 1 BATCH 4800 LOSS 0.03260819613933563\n",
            "EPOCH 1 BATCH 5400 LOSS 0.007468158844858408\n",
            "EPOCH 1 BATCH 6000 LOSS 0.03889675810933113\n",
            "EPOCH 2 BATCH 600 LOSS 0.032828204333782196\n",
            "EPOCH 2 BATCH 1200 LOSS 0.04554177075624466\n",
            "EPOCH 2 BATCH 1800 LOSS 0.005784796085208654\n",
            "EPOCH 2 BATCH 2400 LOSS 0.02235613949596882\n",
            "EPOCH 2 BATCH 3000 LOSS 0.21643038094043732\n",
            "EPOCH 2 BATCH 3600 LOSS 0.00501451687887311\n",
            "EPOCH 2 BATCH 4200 LOSS 0.00045869071618653834\n",
            "EPOCH 2 BATCH 4800 LOSS 0.0019295118981972337\n",
            "EPOCH 2 BATCH 5400 LOSS 0.0008596166153438389\n",
            "EPOCH 2 BATCH 6000 LOSS 0.08304359018802643\n",
            "EPOCH 3 BATCH 600 LOSS 0.0006373372743837535\n",
            "EPOCH 3 BATCH 1200 LOSS 0.0015393418725579977\n",
            "EPOCH 3 BATCH 1800 LOSS 0.0012801657430827618\n",
            "EPOCH 3 BATCH 2400 LOSS 0.001396776526235044\n",
            "EPOCH 3 BATCH 3000 LOSS 0.3044474124908447\n",
            "EPOCH 3 BATCH 3600 LOSS 0.014451900497078896\n",
            "EPOCH 3 BATCH 4200 LOSS 0.021982822567224503\n",
            "EPOCH 3 BATCH 4800 LOSS 0.0007802899926900864\n",
            "EPOCH 3 BATCH 5400 LOSS 0.0016833205008879304\n",
            "EPOCH 3 BATCH 6000 LOSS 0.0002076365490211174\n",
            "EPOCH 4 BATCH 600 LOSS 0.0007947428966872394\n",
            "EPOCH 4 BATCH 1200 LOSS 0.002038671402260661\n",
            "EPOCH 4 BATCH 1800 LOSS 0.0004689941997639835\n",
            "EPOCH 4 BATCH 2400 LOSS 0.00021815943182446063\n",
            "EPOCH 4 BATCH 3000 LOSS 0.031423646956682205\n",
            "EPOCH 4 BATCH 3600 LOSS 0.0073494575917720795\n",
            "EPOCH 4 BATCH 4200 LOSS 0.0006103587802499533\n",
            "EPOCH 4 BATCH 4800 LOSS 0.13828447461128235\n",
            "EPOCH 4 BATCH 5400 LOSS 0.0007458419422619045\n",
            "EPOCH 4 BATCH 6000 LOSS 0.02092968113720417\n",
            "EPOCH 5 BATCH 600 LOSS 0.0009378452086821198\n",
            "EPOCH 5 BATCH 1200 LOSS 0.19402171671390533\n",
            "EPOCH 5 BATCH 1800 LOSS 0.0006758190575055778\n",
            "EPOCH 5 BATCH 2400 LOSS 0.00019682350102812052\n",
            "EPOCH 5 BATCH 3000 LOSS 0.005403806921094656\n",
            "EPOCH 5 BATCH 3600 LOSS 0.0005835095071233809\n",
            "EPOCH 5 BATCH 4200 LOSS 0.0011737591121345758\n",
            "EPOCH 5 BATCH 4800 LOSS 0.0018565601203590631\n",
            "EPOCH 5 BATCH 5400 LOSS 0.0002484446158632636\n",
            "EPOCH 5 BATCH 6000 LOSS 0.00652279332280159\n",
            "Training took 3.927967643737793 minutes\n"
          ]
        }
      ]
    },
    {
      "cell_type": "code",
      "source": [
        "plt.plot(train_losses,label='Training Loss')\n",
        "plt.plot(test_losses,label='Validation Loss')\n",
        "plt.title('LOSS AT EPOCH')\n",
        "plt.legend()"
      ],
      "metadata": {
        "id": "Ws6PCGH9oEg2",
        "colab": {
          "base_uri": "https://localhost:8080/",
          "height": 469
        },
        "outputId": "e6e713e6-9406-49d2-c171-da7d3f50d46d"
      },
      "execution_count": null,
      "outputs": [
        {
          "output_type": "execute_result",
          "data": {
            "text/plain": [
              "<matplotlib.legend.Legend at 0x7c6152242050>"
            ]
          },
          "metadata": {},
          "execution_count": 27
        },
        {
          "output_type": "display_data",
          "data": {
            "text/plain": [
              "<Figure size 640x480 with 1 Axes>"
            ],
            "image/png": "[encoded data removed]"
          },
          "metadata": {}
        }
      ]
    },
    {
      "cell_type": "code",
      "source": [
        "plt.plot([t/600 for t in train_correct],label='Training Accuracy')\n",
        "plt.plot([t/100 for t in test_correct],label='Validation Accuracy')\n",
        "plt.title('Accuracy at the end of each epoch')\n",
        "plt.legend()"
      ],
      "metadata": {
        "colab": {
          "base_uri": "https://localhost:8080/",
          "height": 469
        },
        "id": "bhpAL1T1ODGx",
        "outputId": "d8999823-d190-4338-c773-6ea46020410a"
      },
      "execution_count": null,
      "outputs": [
        {
          "output_type": "execute_result",
          "data": {
            "text/plain": [
              "<matplotlib.legend.Legend at 0x7c6152bf6fe0>"
            ]
          },
          "metadata": {},
          "execution_count": 28
        },
        {
          "output_type": "display_data",
          "data": {
            "text/plain": [
              "<Figure size 640x480 with 1 Axes>"
            ],
            "image/png": "[encoded data removed]"
          },
          "metadata": {}
        }
      ]
    },
    {
      "cell_type": "code",
      "source": [
        "test_load_all = DataLoader(test_data,batch_size=10000,shuffle=False)"
      ],
      "metadata": {
        "id": "pWkOQk6wTaQi"
      },
      "execution_count": null,
      "outputs": []
    },
    {
      "cell_type": "code",
      "source": [
        "with torch.no_grad():\n",
        "  correct = 0\n",
        "  for X_test,y_test in test_load_all:\n",
        "    y_val = model(X_test)\n",
        "    predicted = torch.max(y_val,1)[1]\n",
        "    correct += (predicted==y_test).sum()"
      ],
      "metadata": {
        "id": "3B_A_jSNRpSi"
      },
      "execution_count": null,
      "outputs": []
    },
    {
      "cell_type": "code",
      "source": [
        "print(f'Test accuracy: {correct.item()}/{len(test_data)} = {correct.item()*100/(len(test_data)):7.2f}%')"
      ],
      "metadata": {
        "colab": {
          "base_uri": "https://localhost:8080/"
        },
        "id": "SjVXkNdqT68G",
        "outputId": "493a87b0-cccb-416a-90ee-0bdb77f229f4"
      },
      "execution_count": null,
      "outputs": [
        {
          "output_type": "stream",
          "name": "stdout",
          "text": [
            "Test accuracy: 9889/10000 =   98.89%\n"
          ]
        }
      ]
    },
    {
      "cell_type": "code",
      "source": [
        "# print a row of values for reference\n",
        "np.set_printoptions(formatter=dict(int=lambda x: f'{x:4}'))\n",
        "print(np.arange(10).reshape(1,10))\n",
        "print()\n",
        "\n",
        "# print the confusion matrix\n",
        "print(confusion_matrix(predicted.view(-1), y_test.view(-1)))"
      ],
      "metadata": {
        "colab": {
          "base_uri": "https://localhost:8080/"
        },
        "id": "MK2lhkVqT_1p",
        "outputId": "6c295fc3-5f49-430d-a58c-8e06ff60f81d"
      },
      "execution_count": null,
      "outputs": [
        {
          "output_type": "stream",
          "name": "stdout",
          "text": [
            "[[   0    1    2    3    4    5    6    7    8    9]]\n",
            "\n",
            "[[ 977    3    1    0    0    2    4    1    4    0]\n",
            " [   0 1130    2    0    0    0    1    4    0    3]\n",
            " [   0    1 1022    0    0    0    0    4    2    0]\n",
            " [   0    0    3 1007    0    7    0    2    2    2]\n",
            " [   0    0    1    0  971    0    1    0    0    5]\n",
            " [   0    0    0    1    0  879    7    0    1    5]\n",
            " [   1    1    0    0    4    2  944    0    1    0]\n",
            " [   1    0    3    0    0    0    0 1013    1    2]\n",
            " [   1    0    0    2    1    1    1    1  962    8]\n",
            " [   0    0    0    0    6    1    0    3    1  984]]\n"
          ]
        }
      ]
    },
    {
      "cell_type": "code",
      "source": [
        "plt.imshow(test_data[333][0].reshape(28,28))"
      ],
      "metadata": {
        "colab": {
          "base_uri": "https://localhost:8080/",
          "height": 447
        },
        "id": "0xVT3XMBUPmr",
        "outputId": "04e1cc9c-e605-4d22-d739-4099335c11ae"
      },
      "execution_count": null,
      "outputs": [
        {
          "output_type": "execute_result",
          "data": {
            "text/plain": [
              "<matplotlib.image.AxesImage at 0x7c615305a170>"
            ]
          },
          "metadata": {},
          "execution_count": 33
        },
        {
          "output_type": "display_data",
          "data": {
            "text/plain": [
              "<Figure size 640x480 with 1 Axes>"
            ],
            "image/png": "[encoded data removed]"
          },
          "metadata": {}
        }
      ]
    },
    {
      "cell_type": "code",
      "source": [
        "test_data[333][1]"
      ],
      "metadata": {
        "colab": {
          "base_uri": "https://localhost:8080/"
        },
        "id": "HWZgKLI9VRFi",
        "outputId": "30686848-e838-429f-b94a-536556a1d99c"
      },
      "execution_count": null,
      "outputs": [
        {
          "output_type": "execute_result",
          "data": {
            "text/plain": [
              "5"
            ]
          },
          "metadata": {},
          "execution_count": 34
        }
      ]
    },
    {
      "cell_type": "code",
      "source": [
        "model.eval()\n",
        "with torch.no_grad():\n",
        "  new_prediction = model(test_data[333][0].view(1,1,28,28))"
      ],
      "metadata": {
        "id": "Ho4FOUV1VcES"
      },
      "execution_count": null,
      "outputs": []
    },
    {
      "cell_type": "code",
      "source": [
        "new_prediction.argmax().item()"
      ],
      "metadata": {
        "colab": {
          "base_uri": "https://localhost:8080/"
        },
        "id": "1j_VOp1_WFvE",
        "outputId": "e72a776a-90ca-4e66-8a38-1c8a0dffcbc2"
      },
      "execution_count": null,
      "outputs": [
        {
          "output_type": "execute_result",
          "data": {
            "text/plain": [
              "5"
            ]
          },
          "metadata": {},
          "execution_count": 38
        }
      ]
    },
    {
      "cell_type": "code",
      "source": [],
      "metadata": {
        "id": "39Vqn38AWNjo"
      },
      "execution_count": null,
      "outputs": []
    }
  ]
}